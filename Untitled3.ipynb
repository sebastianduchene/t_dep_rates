{
 "metadata": {
  "name": "",
  "signature": "sha256:5910c13dbfe4d2d681ac5f18062d8a42c868721af94cde1aeeffb483a213a4d0"
 },
 "nbformat": 3,
 "nbformat_minor": 0,
 "worksheets": [
  {
   "cells": [
    {
     "cell_type": "code",
     "collapsed": false,
     "input": [
      "import numpy as np\n"
     ],
     "language": "python",
     "metadata": {},
     "outputs": [],
     "prompt_number": 8
    },
    {
     "cell_type": "code",
     "collapsed": false,
     "input": [
      "%load_ext rmagic"
     ],
     "language": "python",
     "metadata": {},
     "outputs": [
      {
       "output_type": "stream",
       "stream": "stdout",
       "text": [
        "The rmagic extension is already loaded. To reload it, use:\n",
        "  %reload_ext rmagic\n"
       ]
      }
     ],
     "prompt_number": 9
    },
    {
     "cell_type": "code",
     "collapsed": false,
     "input": [
      "%R library(ape)\n",
      "\n"
     ],
     "language": "python",
     "metadata": {},
     "outputs": [
      {
       "metadata": {},
       "output_type": "pyout",
       "prompt_number": 10,
       "text": [
        "array(['ape', 'tools', 'stats', 'graphics', 'grDevices', 'utils',\n",
        "       'datasets', 'methods', 'base'], \n",
        "      dtype='|S9')"
       ]
      }
     ],
     "prompt_number": 10
    },
    {
     "cell_type": "code",
     "collapsed": false,
     "input": [
      "wow = np.array(np.random.randn(5, 5))\n"
     ],
     "language": "python",
     "metadata": {},
     "outputs": [],
     "prompt_number": 11
    },
    {
     "cell_type": "code",
     "collapsed": false,
     "input": [
      "wow\n"
     ],
     "language": "python",
     "metadata": {},
     "outputs": [
      {
       "metadata": {},
       "output_type": "pyout",
       "prompt_number": 12,
       "text": [
        "array([[ 1.26527799,  0.21130486, -0.8404089 , -1.77586373, -0.33619717],\n",
        "       [ 0.18251673, -1.09806731, -0.19071401,  0.22619999,  0.53555873],\n",
        "       [-1.20922843, -1.31635347,  1.3171231 , -0.04563455,  1.14995978],\n",
        "       [-0.65869624, -1.23526516, -0.23620029, -0.89793031,  1.53919465],\n",
        "       [ 2.26592009,  0.0945908 ,  0.6762691 , -1.86023887,  0.69904773]])"
       ]
      }
     ],
     "prompt_number": 12
    },
    {
     "cell_type": "code",
     "collapsed": false,
     "input": [
      "%R tree <- rtree(10)\n"
     ],
     "language": "python",
     "metadata": {},
     "outputs": [
      {
       "metadata": {},
       "output_type": "pyout",
       "prompt_number": 18,
       "text": [
        "array([ <Matrix - Python:0x10fcf1e18 / R:0x1004b29f0>\n",
        "[      11,       12,       12, ...,       19,        9,       10],\n",
        "       <StrVector - Python:0x10fcf1ea8 / R:0x10e820f48>\n",
        "['t4', 't5', 't2', ..., 't7', 't3', 't9'],\n",
        "       <FloatVector - Python:0x10fcf1c68 / R:0x1004b2ab0>\n",
        "[0.400685, 0.844245, 0.680989, ..., 0.238920, 0.013610, 0.128813],\n",
        "       <IntVector - Python:0x10fcf1b90 / R:0x10e8a8da8>\n",
        "[       9]], dtype=object)"
       ]
      }
     ],
     "prompt_number": 18
    },
    {
     "cell_type": "code",
     "collapsed": false,
     "input": [
      "wow"
     ],
     "language": "python",
     "metadata": {},
     "outputs": [
      {
       "metadata": {},
       "output_type": "pyout",
       "prompt_number": 19,
       "text": [
        "array([[ 1.26527799,  0.21130486, -0.8404089 , -1.77586373, -0.33619717],\n",
        "       [ 0.18251673, -1.09806731, -0.19071401,  0.22619999,  0.53555873],\n",
        "       [-1.20922843, -1.31635347,  1.3171231 , -0.04563455,  1.14995978],\n",
        "       [-0.65869624, -1.23526516, -0.23620029, -0.89793031,  1.53919465],\n",
        "       [ 2.26592009,  0.0945908 ,  0.6762691 , -1.86023887,  0.69904773]])"
       ]
      }
     ],
     "prompt_number": 19
    },
    {
     "cell_type": "code",
     "collapsed": false,
     "input": [
      "%R plot(tree)\n"
     ],
     "language": "python",
     "metadata": {},
     "outputs": [
      {
       "metadata": {},
       "output_type": "display_data",
       "png": "[encoded data removed]"
      },
      {
       "metadata": {},
       "output_type": "pyout",
       "prompt_number": 20,
       "text": [
        "array([<StrVector - Python:0x10bf74e60 / R:0x10e9c9d58>\n",
        "['phylogram'],\n",
        "       <Vector - Python:0x10bf74cb0 / R:0x10e9c9d28>\n",
        "[       1],\n",
        "       <FloatVector - Python:0x10bf74dd0 / R:0x10e9c9cf8>\n",
        "[1.000000],\n",
        "       <FloatVector - Python:0x10bf74758 / R:0x10e9c9cc8>\n",
        "[1.000000],\n",
        "       <Vector - Python:0x10bf74c68 / R:0x10e9c9c98>\n",
        "[       1],\n",
        "       <Vector - Python:0x10bf74d88 / R:0x10e9c9c68>\n",
        "[       0],\n",
        "       <FloatVector - Python:0x10bf74cf8 / R:0x10e9c9c38>\n",
        "[3.000000],\n",
        "       <FloatVector - Python:0x10bf74908 / R:0x10e9c9c08>\n",
        "[1.000000],\n",
        "       <FloatVector - Python:0x10c461098 / R:0x10e9c9bd8>\n",
        "[0.000000],\n",
        "       <FloatVector - Python:0x10c461200 / R:0x10e9c9b48>\n",
        "[0.000000],\n",
        "       <Vector - Python:0x10c461170 / R:0x10e9c9878>\n",
        "[       0],\n",
        "       <FloatVector - Python:0x10c461fc8 / R:0x10e9c97e8>\n",
        "[0.000000],\n",
        "       <FloatVector - Python:0x10c461050 / R:0x10e85a990>\n",
        "[0.000000, 2.691660],\n",
        "       <FloatVector - Python:0x10c461290 / R:0x10e85a958>\n",
        "[1.000000, 10.000000],\n",
        "       <StrVector - Python:0x10c461128 / R:0x10e9c9728>\n",
        "['rightwards'],\n",
        "       <StrVector - Python:0x10c461248 / R:0x10e9ccb78>\n",
        "['black'],\n",
        "       <IntVector - Python:0x10c4612d8 / R:0x10e9ccb48>\n",
        "[      10],\n",
        "       <IntVector - Python:0x10c4610e0 / R:0x10e9ccb18>\n",
        "[       9]], dtype=object)"
       ]
      }
     ],
     "prompt_number": 20
    },
    {
     "cell_type": "code",
     "collapsed": false,
     "input": [
      "import pandas as pd\n"
     ],
     "language": "python",
     "metadata": {},
     "outputs": [],
     "prompt_number": 21
    },
    {
     "cell_type": "code",
     "collapsed": false,
     "input": [
      "import matplotlib.pyplot as plt\n"
     ],
     "language": "python",
     "metadata": {},
     "outputs": []
    },
    {
     "cell_type": "code",
     "collapsed": false,
     "input": [
      "wow\n"
     ],
     "language": "python",
     "metadata": {},
     "outputs": [
      {
       "metadata": {},
       "output_type": "pyout",
       "prompt_number": 22,
       "text": [
        "array([[ 1.26527799,  0.21130486, -0.8404089 , -1.77586373, -0.33619717],\n",
        "       [ 0.18251673, -1.09806731, -0.19071401,  0.22619999,  0.53555873],\n",
        "       [-1.20922843, -1.31635347,  1.3171231 , -0.04563455,  1.14995978],\n",
        "       [-0.65869624, -1.23526516, -0.23620029, -0.89793031,  1.53919465],\n",
        "       [ 2.26592009,  0.0945908 ,  0.6762691 , -1.86023887,  0.69904773]])"
       ]
      }
     ],
     "prompt_number": 22
    },
    {
     "cell_type": "code",
     "collapsed": false,
     "input": [
      "uno = wow[:, 0]"
     ],
     "language": "python",
     "metadata": {},
     "outputs": [],
     "prompt_number": 23
    },
    {
     "cell_type": "code",
     "collapsed": false,
     "input": [
      "dos = wow[0, :]"
     ],
     "language": "python",
     "metadata": {},
     "outputs": [],
     "prompt_number": 24
    },
    {
     "cell_type": "code",
     "collapsed": false,
     "input": [
      "plt.plot(uno, dos, \"p\")"
     ],
     "language": "python",
     "metadata": {},
     "outputs": [
      {
       "metadata": {},
       "output_type": "pyout",
       "prompt_number": 25,
       "text": [
        "[<matplotlib.lines.Line2D at 0x10bf97990>]"
       ]
      },
      {
       "metadata": {},
       "output_type": "display_data",
       "png": "[encoded data removed]",
       "text": [
        "<matplotlib.figure.Figure at 0x10b910b90>"
       ]
      }
     ],
     "prompt_number": 25
    },
    {
     "cell_type": "code",
     "collapsed": false,
     "input": [
      "dataf = pd.DataFrame(uno, dos, index = {1, 2, 3, 4, 5})"
     ],
     "language": "python",
     "metadata": {},
     "outputs": [
      {
       "ename": "TypeError",
       "evalue": "__init__() got multiple values for keyword argument 'index'",
       "output_type": "pyerr",
       "traceback": [
        "\u001b[0;31m---------------------------------------------------------------------------\u001b[0m\n\u001b[0;31mTypeError\u001b[0m                                 Traceback (most recent call last)",
        "\u001b[0;32m<ipython-input-47-5d64f3d0608f>\u001b[0m in \u001b[0;36m<module>\u001b[0;34m()\u001b[0m\n\u001b[0;32m----> 1\u001b[0;31m \u001b[0mdataf\u001b[0m \u001b[0;34m=\u001b[0m \u001b[0mpd\u001b[0m\u001b[0;34m.\u001b[0m\u001b[0mDataFrame\u001b[0m\u001b[0;34m(\u001b[0m\u001b[0muno\u001b[0m\u001b[0;34m,\u001b[0m \u001b[0mdos\u001b[0m\u001b[0;34m,\u001b[0m \u001b[0mindex\u001b[0m \u001b[0;34m=\u001b[0m \u001b[0;34m{\u001b[0m\u001b[0;36m1\u001b[0m\u001b[0;34m,\u001b[0m \u001b[0;36m2\u001b[0m\u001b[0;34m,\u001b[0m \u001b[0;36m3\u001b[0m\u001b[0;34m,\u001b[0m \u001b[0;36m4\u001b[0m\u001b[0;34m,\u001b[0m \u001b[0;36m5\u001b[0m\u001b[0;34m}\u001b[0m\u001b[0;34m)\u001b[0m\u001b[0;34m\u001b[0m\u001b[0m\n\u001b[0m",
        "\u001b[0;31mTypeError\u001b[0m: __init__() got multiple values for keyword argument 'index'"
       ]
      }
     ],
     "prompt_number": 47
    },
    {
     "cell_type": "code",
     "collapsed": false,
     "input": [
      "dataf.plot(kind = \"bar\")\n"
     ],
     "language": "python",
     "metadata": {},
     "outputs": [
      {
       "metadata": {},
       "output_type": "pyout",
       "prompt_number": 36,
       "text": [
        "<matplotlib.axes.AxesSubplot at 0x111e7f1d0>"
       ]
      },
      {
       "metadata": {},
       "output_type": "display_data",
       "png": "[encoded data removed]",
       "text": [
        "<matplotlib.figure.Figure at 0x111e7ff50>"
       ]
      }
     ],
     "prompt_number": 36
    },
    {
     "cell_type": "code",
     "collapsed": false,
     "input": [
      "dataf.diff().hist()"
     ],
     "language": "python",
     "metadata": {},
     "outputs": [
      {
       "metadata": {},
       "output_type": "pyout",
       "prompt_number": 38,
       "text": [
        "array([[<matplotlib.axes.AxesSubplot object at 0x10c463ad0>]], dtype=object)"
       ]
      },
      {
       "metadata": {},
       "output_type": "display_data",
       "png": "[encoded data removed]",
       "text": [
        "<matplotlib.figure.Figure at 0x110eb56d0>"
       ]
      }
     ],
     "prompt_number": 38
    },
    {
     "cell_type": "code",
     "collapsed": false,
     "input": [
      "type(dataf)"
     ],
     "language": "python",
     "metadata": {},
     "outputs": [
      {
       "metadata": {},
       "output_type": "pyout",
       "prompt_number": 49,
       "text": [
        "pandas.core.frame.DataFrame"
       ]
      }
     ],
     "prompt_number": 49
    },
    {
     "cell_type": "code",
     "collapsed": false,
     "input": [
      "arr_data = np.array([uno, dos])"
     ],
     "language": "python",
     "metadata": {},
     "outputs": [],
     "prompt_number": 54
    },
    {
     "cell_type": "code",
     "collapsed": false,
     "input": [
      "arr_data"
     ],
     "language": "python",
     "metadata": {},
     "outputs": [
      {
       "metadata": {},
       "output_type": "pyout",
       "prompt_number": 55,
       "text": [
        "array([[ 1.26527799,  0.18251673, -1.20922843, -0.65869624,  2.26592009],\n",
        "       [ 1.26527799,  0.21130486, -0.8404089 , -1.77586373, -0.33619717]])"
       ]
      }
     ],
     "prompt_number": 55
    },
    {
     "cell_type": "code",
     "collapsed": false,
     "input": [
      "hist_test = np.histogram(arr_data)"
     ],
     "language": "python",
     "metadata": {},
     "outputs": [],
     "prompt_number": 93
    },
    {
     "cell_type": "code",
     "collapsed": false,
     "input": [
      "type(hist_test)"
     ],
     "language": "python",
     "metadata": {},
     "outputs": [
      {
       "metadata": {},
       "output_type": "pyout",
       "prompt_number": 94,
       "text": [
        "tuple"
       ]
      }
     ],
     "prompt_number": 94
    },
    {
     "cell_type": "code",
     "collapsed": false,
     "input": [
      "hist_test"
     ],
     "language": "python",
     "metadata": {},
     "outputs": [
      {
       "metadata": {},
       "output_type": "pyout",
       "prompt_number": 95,
       "text": [
        "(array([1, 1, 2, 1, 2, 0, 0, 2, 0, 1]),\n",
        " array([-1.77586373, -1.37168535, -0.96750697, -0.56332858, -0.1591502 ,\n",
        "         0.24502818,  0.64920656,  1.05338494,  1.45756332,  1.86174171,\n",
        "         2.26592009]))"
       ]
      }
     ],
     "prompt_number": 95
    },
    {
     "cell_type": "code",
     "collapsed": false,
     "input": [
      "hist_test[1]"
     ],
     "language": "python",
     "metadata": {},
     "outputs": [
      {
       "metadata": {},
       "output_type": "pyout",
       "prompt_number": 97,
       "text": [
        "array([-1.77586373, -1.37168535, -0.96750697, -0.56332858, -0.1591502 ,\n",
        "        0.24502818,  0.64920656,  1.05338494,  1.45756332,  1.86174171,\n",
        "        2.26592009])"
       ]
      }
     ],
     "prompt_number": 97
    },
    {
     "cell_type": "code",
     "collapsed": false,
     "input": [
      "plt.hist(arr_data[1])"
     ],
     "language": "python",
     "metadata": {},
     "outputs": [
      {
       "metadata": {},
       "output_type": "pyout",
       "prompt_number": 106,
       "text": [
        "(array([ 1.,  0.,  0.,  1.,  1.,  0.,  1.,  0.,  0.,  1.]),\n",
        " array([-1.77586373, -1.47174956, -1.16763539, -0.86352121, -0.55940704,\n",
        "        -0.25529287,  0.0488213 ,  0.35293548,  0.65704965,  0.96116382,\n",
        "         1.26527799]),\n",
        " <a list of 10 Patch objects>)"
       ]
      },
      {
       "metadata": {},
       "output_type": "display_data",
       "png": "[encoded data removed]",
       "text": [
        "<matplotlib.figure.Figure at 0x112830c50>"
       ]
      }
     ],
     "prompt_number": 106
    },
    {
     "cell_type": "heading",
     "level": 1,
     "metadata": {},
     "source": [
      "Creating a histogram"
     ]
    },
    {
     "cell_type": "raw",
     "metadata": {},
     "source": [
      "Creating a histogram"
     ]
    },
    {
     "cell_type": "code",
     "collapsed": false,
     "input": [
      "arr_dat2 = np.random.randn(100)"
     ],
     "language": "python",
     "metadata": {},
     "outputs": [],
     "prompt_number": 107
    },
    {
     "cell_type": "code",
     "collapsed": false,
     "input": [
      "len(arr_dat2)"
     ],
     "language": "python",
     "metadata": {},
     "outputs": [
      {
       "metadata": {},
       "output_type": "pyout",
       "prompt_number": 109,
       "text": [
        "100"
       ]
      }
     ],
     "prompt_number": 109
    },
    {
     "cell_type": "code",
     "collapsed": false,
     "input": [
      "plt.hist(arr_dat2)"
     ],
     "language": "python",
     "metadata": {},
     "outputs": [
      {
       "metadata": {},
       "output_type": "pyout",
       "prompt_number": 112,
       "text": [
        "(array([  1.,   5.,   7.,  12.,  20.,  21.,  12.,  13.,   7.,   2.]),\n",
        " array([-2.53701165, -2.07103953, -1.6050674 , -1.13909528, -0.67312316,\n",
        "        -0.20715103,  0.25882109,  0.72479321,  1.19076534,  1.65673746,\n",
        "         2.12270958]),\n",
        " <a list of 10 Patch objects>)"
       ]
      },
      {
       "metadata": {},
       "output_type": "display_data",
       "png": "[encoded data removed]",
       "text": [
        "<matplotlib.figure.Figure at 0x112ded810>"
       ]
      }
     ],
     "prompt_number": 112
    },
    {
     "cell_type": "code",
     "collapsed": false,
     "input": [
      "plt.hist(hist_test2)"
     ],
     "language": "python",
     "metadata": {},
     "outputs": [
      {
       "metadata": {},
       "output_type": "pyout",
       "prompt_number": 111,
       "text": [
        "([array([ 0.,  2.,  0.,  1.,  2.,  0.,  3.,  0.,  0.,  2.]),\n",
        "  array([ 6.,  5.,  0.,  0.,  0.,  0.,  0.,  0.,  0.,  0.])],\n",
        " array([ -2.53701165,  -0.18331049,   2.17039068,   4.52409184,\n",
        "          6.87779301,   9.23149417,  11.58519534,  13.9388965 ,\n",
        "         16.29259767,  18.64629883,  21.        ]),\n",
        " <a list of 2 Lists of Patches objects>)"
       ]
      },
      {
       "metadata": {},
       "output_type": "display_data",
       "png": "[encoded data removed]",
       "text": [
        "<matplotlib.figure.Figure at 0x1131f2650>"
       ]
      }
     ],
     "prompt_number": 111
    },
    {
     "cell_type": "code",
     "collapsed": false,
     "input": [
      "help(tolist)"
     ],
     "language": "python",
     "metadata": {},
     "outputs": [
      {
       "ename": "NameError",
       "evalue": "name 'tolist' is not defined",
       "output_type": "pyerr",
       "traceback": [
        "\u001b[0;31m---------------------------------------------------------------------------\u001b[0m\n\u001b[0;31mNameError\u001b[0m                                 Traceback (most recent call last)",
        "\u001b[0;32m<ipython-input-88-dad447fe0ac4>\u001b[0m in \u001b[0;36m<module>\u001b[0;34m()\u001b[0m\n\u001b[0;32m----> 1\u001b[0;31m \u001b[0mhelp\u001b[0m\u001b[0;34m(\u001b[0m\u001b[0mtolist\u001b[0m\u001b[0;34m)\u001b[0m\u001b[0;34m\u001b[0m\u001b[0m\n\u001b[0m",
        "\u001b[0;31mNameError\u001b[0m: name 'tolist' is not defined"
       ]
      }
     ],
     "prompt_number": 88
    },
    {
     "cell_type": "code",
     "collapsed": false,
     "input": [],
     "language": "python",
     "metadata": {},
     "outputs": []
    }
   ],
   "metadata": {}
  }
 ]
}